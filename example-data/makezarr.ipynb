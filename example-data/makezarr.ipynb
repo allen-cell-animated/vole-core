{
 "cells": [
  {
   "cell_type": "code",
   "execution_count": 1,
   "id": "ca060a45",
   "metadata": {},
   "outputs": [],
   "source": [
    "from aicsimageio import AICSImage"
   ]
  },
  {
   "cell_type": "code",
   "execution_count": 2,
   "id": "7b5001be",
   "metadata": {},
   "outputs": [],
   "source": [
    "img = AICSImage(\"/Users/danielt/Downloads/AICS-12_143.ome.tif\")"
   ]
  },
  {
   "cell_type": "code",
   "execution_count": 3,
   "id": "98d413b5",
   "metadata": {},
   "outputs": [
    {
     "name": "stdout",
     "output_type": "stream",
     "text": [
      "(1, 9, 60, 624, 924)\n",
      "['CMDRP', 'EGFP', 'H3342', 'Bright_100X', 'SEG_STRUCT', 'SEG_Memb', 'SEG_DNA', 'CON_Memb', 'CON_DNA']\n",
      "PhysicalPixelSizes(Z=0.29, Y=0.10833333333333332, X=0.10833333333333332)\n"
     ]
    }
   ],
   "source": [
    "data = img.get_image_data()\n",
    "print(data.shape)\n",
    "print(img.channel_names)\n",
    "print(img.physical_pixel_sizes)"
   ]
  },
  {
   "cell_type": "code",
   "execution_count": 4,
   "id": "f577233e",
   "metadata": {},
   "outputs": [],
   "source": [
    "# prepare the metadata for ome-zarr\n",
    "\n",
    "ch = []\n",
    "for i in range(data.shape[1]):\n",
    "    ch.append({\"active\": True,\n",
    "        \"coefficient\": 1,\n",
    "        \"color\": \"0000FF\",\n",
    "        \"family\": \"linear\",\n",
    "        \"inverted\": False,\n",
    "        \"label\": img.channel_names[i],\n",
    "        \"window\": {\n",
    "            \"end\": float(data[0,i, :,:,:].max()),\n",
    "            \"max\": float(data[0,i, :,:,:].max()),\n",
    "            \"min\": float(data[0,i, :,:,:].min()),\n",
    "            \"start\": float(data[0,i, :,:,:].min())\n",
    "        }\n",
    "    })\n",
    "\n",
    "omero = {\n",
    "    \"id\": 1,                              # ID in OMERO\n",
    "    \"name\": \"image0\",                # Name as shown in the UI\n",
    "    \"version\": \"0.1\",                     # Current version\n",
    "    \"channels\": ch,\n",
    "    \"rdefs\": {\n",
    "        \"defaultT\": 0,                    # First timepoint to show the user\n",
    "        \"defaultZ\": data.shape[2]//2,                  # First Z section to show the user\n",
    "        \"model\": \"color\",                  # \"color\" or \"greyscale\"\n",
    "        \"projection\": \"normal\"  # ?\n",
    "    },\n",
    "    \"meta\": {\n",
    "        \"projectDescription\": \"20+ lines of gene edited cells etc\",\n",
    "        \"datasetName\": \"aics_hipsc_v2020.1\",\n",
    "        \"projectId\": 2,\n",
    "        \"imageDescription\": \"foo bar\",\n",
    "        \"imageTimestamp\": 1277977808.0,\n",
    "        \"imageId\": 12,\n",
    "        \"imageAuthor\": \"danielt\",\n",
    "        \"imageName\": \"AICS-12_143.ome.tif\",\n",
    "        \"datasetDescription\": \"variance dataset after QC\",\n",
    "        \"projectName\": \"aics cell variance project\",\n",
    "        \"datasetId\": 3\n",
    "    },\n",
    "    \"pixel_size\": {\n",
    "        \"y\": img.physical_pixel_sizes.Y,\n",
    "        \"x\": img.physical_pixel_sizes.X,\n",
    "        \"z\": img.physical_pixel_sizes.Z\n",
    "    },\n",
    "    \"size\": {\n",
    "        \"width\": data.shape[4],\n",
    "        \"c\": data.shape[1],\n",
    "        \"z\": data.shape[2],\n",
    "        \"t\": data.shape[0],\n",
    "        \"height\": data.shape[3]\n",
    "    },\n",
    "}"
   ]
  },
  {
   "cell_type": "code",
   "execution_count": 5,
   "id": "24a4d263",
   "metadata": {},
   "outputs": [
    {
     "name": "stdout",
     "output_type": "stream",
     "text": [
      "204 341\n",
      "(1, 9, 60, 204, 341)\n"
     ]
    }
   ],
   "source": [
    "# OPTIONAL: compute a special reduced resolution version and add a subgroup for it. \n",
    "\n",
    "import math\n",
    "import skimage.transform as sktransform\n",
    "\n",
    "# compute new dimensions\n",
    "max_edge = 2048\n",
    "\n",
    "# find a z tiling that is as nearly square as possible\n",
    "tile_width, tile_height, stack_height = (\n",
    "    img.dims.X,\n",
    "    img.dims.Y,\n",
    "    img.dims.Z,\n",
    ")\n",
    "\n",
    "# maintain aspect ratio of images\n",
    "# initialize atlas with one row of all slices\n",
    "atlas_width = tile_width * stack_height\n",
    "atlas_height = tile_height\n",
    "ratio = float(atlas_width) / float(atlas_height)\n",
    "# these next steps attempt to optimize the atlas into a square shape\n",
    "# TODO - there must be a way to do this with a single calculation?\n",
    "for r in range(2, stack_height):\n",
    "    new_rows = math.ceil(float(stack_height) / r)\n",
    "    adjusted_width = int(tile_width * new_rows)\n",
    "    adjusted_height = int(tile_height * r)\n",
    "    new_ratio = float(max(adjusted_width, adjusted_height)) / float(\n",
    "        min(adjusted_width, adjusted_height)\n",
    "    )\n",
    "    if new_ratio < ratio:\n",
    "        ratio = new_ratio\n",
    "        atlas_width = adjusted_width\n",
    "        atlas_height = adjusted_height\n",
    "    else:\n",
    "        # we've found the rows and columns that make this the most square image\n",
    "        break\n",
    "cols = int(atlas_width // tile_width)\n",
    "rows = int(atlas_height // tile_height)\n",
    "\n",
    "if max_edge < atlas_width or max_edge < atlas_height:\n",
    "    tile_width = math.floor(max_edge / cols)\n",
    "    tile_height = math.floor(max_edge / rows)\n",
    "    atlas_width = tile_width * cols\n",
    "    atlas_height = tile_height * rows\n",
    "\n",
    "tile_width = int(tile_width)\n",
    "tile_height = int(tile_height)\n",
    "rows = int(rows)\n",
    "cols = int(cols)\n",
    "atlas_width = int(atlas_width)\n",
    "atlas_height = int(atlas_height)\n",
    "width = img.dims.X\n",
    "height = img.dims.Y\n",
    "channels = img.dims.C\n",
    "tiles = img.dims.Z\n",
    "\n",
    "print(tile_height, tile_width)\n",
    "\n",
    "# now resize the X,Y of the image to tile_width, tile_height\n",
    "# and save to a new zarr group\n",
    "\n",
    "reduced_data = sktransform.rescale(\n",
    "    data, (1,1,1,float(tile_height)/float(height),float(tile_width)/float(width)), order=0, preserve_range=True\n",
    ")\n",
    "\n",
    "# # rescale min to 0 and max to 255\n",
    "# mn = min(0, reduced_data.min())\n",
    "# mx = reduced_data.max()\n",
    "# reduced_data = 255.0 * (reduced_data - mn) / (mx - mn)\n",
    "# reduced_data = reduced_data.astype(numpy.uint8)\n",
    "\n",
    "print(reduced_data.shape)"
   ]
  },
  {
   "cell_type": "code",
   "execution_count": 6,
   "id": "90451e15",
   "metadata": {},
   "outputs": [
    {
     "name": "stdout",
     "output_type": "stream",
     "text": [
      "z0.zarr\n",
      "<zarr.storage.FSStore object at 0x7fa65c81f1f0>\n",
      "<zarr.hierarchy.Group '/'>\n",
      "['image0', '.zgroup']\n",
      "['.zattrs', '.zgroup', '0', '1', '4', '3', '2']\n",
      "['.zattrs', '.zgroup', '0']\n"
     ]
    }
   ],
   "source": [
    "# do the writing\n",
    "\n",
    "import shutil\n",
    "import zarr\n",
    "import pathlib\n",
    "import numpy\n",
    "import os\n",
    "from ome_zarr.writer import write_image\n",
    "from ome_zarr.scale import Scaler\n",
    "from ome_zarr.io import parse_url\n",
    "\n",
    "name = \"z0.zarr\"\n",
    "mypath = pathlib.Path(\"./\" + name)\n",
    "shutil.rmtree(mypath)\n",
    "print(mypath)\n",
    "store = parse_url(mypath, mode=\"w\").store\n",
    "print(store)\n",
    "root = zarr.group(store=store)\n",
    "print(root)\n",
    "group = root.create_group(\"image0\")\n",
    "\n",
    "scaler = Scaler()\n",
    "write_image(data, group, chunks=(60,256,256), scaler=scaler, omero=omero)\n",
    "print(os.listdir(mypath))\n",
    "print(os.listdir(mypath / \"image0\"))\n",
    "\n",
    "# OPTIONAL: add a separate group for the single reduced version\n",
    "group2 = root.create_group(\"image_reduced\")\n",
    "# same metadata?\n",
    "write_image(reduced_data, group2, scaler=None, chunks=reduced_data.shape, omero=omero)\n",
    "print(os.listdir(mypath / \"image_reduced\"))\n"
   ]
  },
  {
   "cell_type": "code",
   "execution_count": 7,
   "id": "7ddfd030",
   "metadata": {},
   "outputs": [
    {
     "name": "stdout",
     "output_type": "stream",
     "text": [
      "(1, 9, 60, 624, 924)\n"
     ]
    }
   ],
   "source": [
    "from ome_zarr.reader import Multiscales, Reader\n",
    "reader = Reader(parse_url(mypath / \"image0\"))\n",
    "node = list(reader())[0]\n",
    "print(node.data[0].shape)\n",
    "# assert node.data[0].chunks == ((1,), (2,), (1,), (128, 128), (128, 128))"
   ]
  },
  {
   "cell_type": "code",
   "execution_count": 8,
   "id": "531fcf26",
   "metadata": {},
   "outputs": [
    {
     "name": "stdout",
     "output_type": "stream",
     "text": [
      "5\n"
     ]
    }
   ],
   "source": [
    "# levels\n",
    "print(len(node.data))"
   ]
  },
  {
   "cell_type": "code",
   "execution_count": 9,
   "id": "a903b603",
   "metadata": {},
   "outputs": [
    {
     "name": "stdout",
     "output_type": "stream",
     "text": [
      "(1, 9, 60, 462, 312)\n",
      "(1, 9, 60, 156, 231)\n",
      "(1, 9, 60, 115, 78)\n",
      "(1, 9, 60, 39, 57)\n",
      "uint16\n",
      "(9, 60, 39, 57)\n"
     ]
    }
   ],
   "source": [
    "print(node.data[1].shape)\n",
    "print(node.data[2].shape)\n",
    "print(node.data[3].shape)\n",
    "print(node.data[4].shape)\n",
    "print(node.data[4].dtype)\n",
    "print(node.data[4][0].shape)\n"
   ]
  },
  {
   "cell_type": "code",
   "execution_count": 19,
   "id": "00bff414",
   "metadata": {},
   "outputs": [
    {
     "data": {
      "application/vnd.jupyter.widget-view+json": {
       "model_id": "13b1740a159f4039bdfc10df80226c88",
       "version_major": 2,
       "version_minor": 0
      },
      "text/plain": [
       "VolumeWidget(dimensions={'tile_width': 341, 'tile_height': 204, 'rows': 10, 'cols': 6, 'atlas_width': 2046, 'a…"
      ]
     },
     "metadata": {},
     "output_type": "display_data"
    }
   ],
   "source": [
    "import nbvv\n",
    "level = 0\n",
    "levelxyscale = 2**(level)\n",
    "nbvv.volshow(node.data[level][0][0:2].compute(), spacing=(img.physical_pixel_sizes.X*levelxyscale,\n",
    "        img.physical_pixel_sizes.Y*levelxyscale,\n",
    "        img.physical_pixel_sizes.Z))"
   ]
  },
  {
   "cell_type": "code",
   "execution_count": null,
   "id": "8f5765d5",
   "metadata": {},
   "outputs": [],
   "source": []
  }
 ],
 "metadata": {
  "kernelspec": {
   "display_name": "Python 3",
   "language": "python",
   "name": "python3"
  },
  "language_info": {
   "codemirror_mode": {
    "name": "ipython",
    "version": 3
   },
   "file_extension": ".py",
   "mimetype": "text/x-python",
   "name": "python",
   "nbconvert_exporter": "python",
   "pygments_lexer": "ipython3",
   "version": "3.8.5"
  }
 },
 "nbformat": 4,
 "nbformat_minor": 5
}
