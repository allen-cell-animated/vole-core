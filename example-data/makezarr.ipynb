{
 "cells": [
  {
   "cell_type": "code",
   "execution_count": 36,
   "id": "ca060a45",
   "metadata": {},
   "outputs": [],
   "source": [
    "from aicsimageio import AICSImage"
   ]
  },
  {
   "cell_type": "code",
   "execution_count": 37,
   "id": "7b5001be",
   "metadata": {},
   "outputs": [],
   "source": [
    "img = AICSImage(\"/Users/danielt/Downloads/AICS-12_143.ome.tif\")"
   ]
  },
  {
   "cell_type": "code",
   "execution_count": 38,
   "id": "98d413b5",
   "metadata": {},
   "outputs": [
    {
     "data": {
      "text/plain": [
       "(1, 9, 60, 624, 924)"
      ]
     },
     "execution_count": 38,
     "metadata": {},
     "output_type": "execute_result"
    }
   ],
   "source": [
    "data = img.get_image_data()\n",
    "data.shape"
   ]
  },
  {
   "cell_type": "code",
   "execution_count": 51,
   "id": "f577233e",
   "metadata": {},
   "outputs": [
    {
     "name": "stdout",
     "output_type": "stream",
     "text": [
      "z0.zarr\n",
      "<zarr.storage.FSStore object at 0x7fc5f04312b0>\n",
      "<zarr.hierarchy.Group '/'>\n",
      "['image0', '.zgroup']\n",
      "['.zattrs', '.zgroup', '0', '1', '4', '3', '2']\n"
     ]
    }
   ],
   "source": [
    "import shutil\n",
    "import zarr\n",
    "import pathlib\n",
    "import numpy\n",
    "import os\n",
    "from ome_zarr.writer import write_image\n",
    "from ome_zarr.scale import Scaler\n",
    "from ome_zarr.io import parse_url\n",
    "\n",
    "name = \"z0.zarr\"\n",
    "mypath = pathlib.Path(\"./\" + name)\n",
    "shutil.rmtree(mypath)\n",
    "print(mypath)\n",
    "store = parse_url(mypath, mode=\"w\").store\n",
    "print(store)\n",
    "root = zarr.group(store=store)\n",
    "print(root)\n",
    "group = root.create_group(\"image0\")\n",
    "scaler = Scaler()\n",
    "ch = []\n",
    "for i in range(data.shape[1]):\n",
    "    ch.append({\"active\": True,\n",
    "        \"coefficient\": 1,\n",
    "        \"color\": \"0000FF\",\n",
    "        \"family\": \"linear\",\n",
    "        \"inverted\": False,\n",
    "        \"label\": f\"Channel{i}\",\n",
    "        \"window\": {\n",
    "            \"end\": 1500,\n",
    "            \"max\": 65535,\n",
    "            \"min\": 0,\n",
    "            \"start\": 0\n",
    "        }\n",
    "    })\n",
    "\n",
    "omero = {\"id\": 1,                              # ID in OMERO\n",
    "  \"name\": \"image0\",                # Name as shown in the UI\n",
    "  \"version\": \"0.1\",                     # Current version\n",
    "  \"channels\": ch,\n",
    "  \"rdefs\": {\n",
    "    \"defaultT\": 0,                    # First timepoint to show the user\n",
    "    \"defaultZ\": data.shape[2]//2,                  # First Z section to show the user\n",
    "    \"model\": \"color\"                  # \"color\" or \"greyscale\"\n",
    "  }\n",
    "}\n",
    "write_image(data, group, chunks=(256,256), scaler=scaler, omero=omero)\n",
    "print(os.listdir(mypath))\n",
    "print(os.listdir(mypath / \"image0\"))"
   ]
  },
  {
   "cell_type": "code",
   "execution_count": 44,
   "id": "7ddfd030",
   "metadata": {},
   "outputs": [
    {
     "name": "stdout",
     "output_type": "stream",
     "text": [
      "(1, 9, 60, 624, 924)\n"
     ]
    }
   ],
   "source": [
    "from ome_zarr.reader import Multiscales, Reader\n",
    "reader = Reader(parse_url(mypath / \"image0\"))\n",
    "node = list(reader())[0]\n",
    "print(node.data[0].shape)\n",
    "# assert node.data[0].chunks == ((1,), (2,), (1,), (128, 128), (128, 128))"
   ]
  },
  {
   "cell_type": "code",
   "execution_count": 45,
   "id": "531fcf26",
   "metadata": {},
   "outputs": [
    {
     "name": "stdout",
     "output_type": "stream",
     "text": [
      "5\n"
     ]
    }
   ],
   "source": [
    "# levels\n",
    "print(len(node.data))"
   ]
  },
  {
   "cell_type": "code",
   "execution_count": 46,
   "id": "a903b603",
   "metadata": {},
   "outputs": [
    {
     "name": "stdout",
     "output_type": "stream",
     "text": [
      "(1, 9, 60, 462, 312)\n",
      "(1, 9, 60, 156, 231)\n",
      "(1, 9, 60, 115, 78)\n",
      "(1, 9, 60, 39, 57)\n",
      "uint16\n",
      "(9, 60, 39, 57)\n"
     ]
    }
   ],
   "source": [
    "print(node.data[1].shape)\n",
    "print(node.data[2].shape)\n",
    "print(node.data[3].shape)\n",
    "print(node.data[4].shape)\n",
    "print(node.data[4].dtype)\n",
    "print(node.data[4][0].shape)\n"
   ]
  },
  {
   "cell_type": "code",
   "execution_count": 35,
   "id": "00bff414",
   "metadata": {},
   "outputs": [
    {
     "data": {
      "application/vnd.jupyter.widget-view+json": {
       "model_id": "92d2061292c6462f8971fddfec269dd7",
       "version_major": 2,
       "version_minor": 0
      },
      "text/plain": [
       "VolumeWidget(dimensions={'tile_width': 341, 'tile_height': 204, 'rows': 10, 'cols': 6, 'atlas_width': 2046, 'a…"
      ]
     },
     "metadata": {},
     "output_type": "display_data"
    }
   ],
   "source": [
    "import nbvv\n",
    "nbvv.volshow(node.data[0][0].compute(), spacing=(1.0, 1.0, 4.0))"
   ]
  },
  {
   "cell_type": "code",
   "execution_count": null,
   "id": "8f5765d5",
   "metadata": {},
   "outputs": [],
   "source": []
  }
 ],
 "metadata": {
  "kernelspec": {
   "display_name": "Python 3",
   "language": "python",
   "name": "python3"
  },
  "language_info": {
   "codemirror_mode": {
    "name": "ipython",
    "version": 3
   },
   "file_extension": ".py",
   "mimetype": "text/x-python",
   "name": "python",
   "nbconvert_exporter": "python",
   "pygments_lexer": "ipython3",
   "version": "3.8.5"
  }
 },
 "nbformat": 4,
 "nbformat_minor": 5
}
