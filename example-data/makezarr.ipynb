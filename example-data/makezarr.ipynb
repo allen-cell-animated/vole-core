{
 "cells": [
  {
   "cell_type": "code",
   "execution_count": 1,
   "id": "ca060a45",
   "metadata": {},
   "outputs": [],
   "source": [
    "from aicsimageio import AICSImage"
   ]
  },
  {
   "cell_type": "code",
   "execution_count": 2,
   "id": "7b5001be",
   "metadata": {},
   "outputs": [],
   "source": [
    "img = AICSImage(\"/Users/danielt/Downloads/AICS-12_143.ome.tif\")"
   ]
  },
  {
   "cell_type": "code",
   "execution_count": 3,
   "id": "98d413b5",
   "metadata": {},
   "outputs": [
    {
     "name": "stdout",
     "output_type": "stream",
     "text": [
      "(1, 9, 60, 624, 924)\n",
      "['CMDRP', 'EGFP', 'H3342', 'Bright_100X', 'SEG_STRUCT', 'SEG_Memb', 'SEG_DNA', 'CON_Memb', 'CON_DNA']\n",
      "PhysicalPixelSizes(Z=0.29, Y=0.10833333333333332, X=0.10833333333333332)\n"
     ]
    }
   ],
   "source": [
    "data = img.get_image_data()\n",
    "print(data.shape)\n",
    "print(img.channel_names)\n",
    "print(img.physical_pixel_sizes)"
   ]
  },
  {
   "cell_type": "code",
   "execution_count": 9,
   "id": "f577233e",
   "metadata": {},
   "outputs": [
    {
     "name": "stdout",
     "output_type": "stream",
     "text": [
      "['AICS-12_143', '.zgroup']\n",
      "['.zattrs', '.zgroup', '0', '1', '2']\n"
     ]
    }
   ],
   "source": [
    "import os\n",
    "from aicsimageio.writers import OmeZarrWriter\n",
    "# construct some per-channel lists to feed in to the writer.\n",
    "# hardcoding to 9 for now\n",
    "channel_colors = [0xff0000, 0x00ff00, 0x0000ff, 0xffff00, 0xff00ff, 0x00ffff, 0x880000, 0x008800, 0x000088]\n",
    "\n",
    "mypath = \"/Users/danielt/Documents/AICS-12_143.zarr\"\n",
    "# TODO: add generated thumbnail image with name \"thumbnail\" as 2d rgb data? or 3 channels?\n",
    "# TODO compression?\n",
    "OmeZarrWriter.save(\n",
    "    data, \n",
    "    mypath,\n",
    "    image_name=\"AICS-12_143\",\n",
    "    channel_names=img.channel_names,\n",
    "    channel_colors=channel_colors,\n",
    "    physical_pixel_sizes=img.physical_pixel_sizes,\n",
    ")\n",
    "print(os.listdir(mypath))\n",
    "print(os.listdir(mypath + \"/AICS-12_143\"))\n"
   ]
  },
  {
   "cell_type": "code",
   "execution_count": 12,
   "id": "7ddfd030",
   "metadata": {},
   "outputs": [
    {
     "name": "stdout",
     "output_type": "stream",
     "text": [
      "(1, 9, 60, 624, 924)\n"
     ]
    }
   ],
   "source": [
    "from ome_zarr.reader import Multiscales, Reader\n",
    "from ome_zarr.io import parse_url\n",
    "reader = Reader(parse_url(mypath + \"/AICS-12_143\"))\n",
    "node = list(reader())[0]\n",
    "print(node.data[0].shape)\n",
    "# assert node.data[0].chunks == ((1,), (2,), (1,), (128, 128), (128, 128))"
   ]
  },
  {
   "cell_type": "code",
   "execution_count": 13,
   "id": "531fcf26",
   "metadata": {},
   "outputs": [
    {
     "name": "stdout",
     "output_type": "stream",
     "text": [
      "3\n"
     ]
    }
   ],
   "source": [
    "# levels\n",
    "print(len(node.data))"
   ]
  },
  {
   "cell_type": "code",
   "execution_count": 15,
   "id": "a903b603",
   "metadata": {},
   "outputs": [
    {
     "name": "stdout",
     "output_type": "stream",
     "text": [
      "(1, 9, 60, 312, 462)\n",
      "(1, 9, 60, 156, 231)\n",
      "(9, 60, 156, 231)\n"
     ]
    }
   ],
   "source": [
    "print(node.data[1].shape)\n",
    "print(node.data[2].shape)\n",
    "print(node.data[2][0].shape)\n"
   ]
  },
  {
   "cell_type": "code",
   "execution_count": 16,
   "id": "00bff414",
   "metadata": {},
   "outputs": [
    {
     "data": {
      "application/vnd.jupyter.widget-view+json": {
       "model_id": "27787e7a447947a9b07e0f52619c125a",
       "version_major": 2,
       "version_minor": 0
      },
      "text/plain": [
       "VolumeWidget(dimensions={'tile_width': 341, 'tile_height': 204, 'rows': 10, 'cols': 6, 'atlas_width': 2046, 'a…"
      ]
     },
     "metadata": {},
     "output_type": "display_data"
    }
   ],
   "source": [
    "import nbvv\n",
    "level = 0\n",
    "levelxyscale = 2**(level)\n",
    "nbvv.volshow(node.data[level][0][0:3].compute(), spacing=(img.physical_pixel_sizes.X*levelxyscale,\n",
    "        img.physical_pixel_sizes.Y*levelxyscale,\n",
    "        img.physical_pixel_sizes.Z))"
   ]
  },
  {
   "cell_type": "code",
   "execution_count": null,
   "id": "8f5765d5",
   "metadata": {},
   "outputs": [],
   "source": []
  }
 ],
 "metadata": {
  "kernelspec": {
   "display_name": "Python 3",
   "language": "python",
   "name": "python3"
  },
  "language_info": {
   "codemirror_mode": {
    "name": "ipython",
    "version": 3
   },
   "file_extension": ".py",
   "mimetype": "text/x-python",
   "name": "python",
   "nbconvert_exporter": "python",
   "pygments_lexer": "ipython3",
   "version": "3.8.5"
  }
 },
 "nbformat": 4,
 "nbformat_minor": 5
}
